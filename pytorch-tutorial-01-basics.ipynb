{
 "cells": [
  {
   "cell_type": "markdown",
   "metadata": {},
   "source": [
    "<a class=\"anchor\" id=\"0.\"></a>\n",
    "# **Contents**\n",
    "\n",
    "1. [Pytorch Basics](#1.)\n",
    "* * [1.1. Autograde Example 1](#1.1.)\n",
    "* * [1.2. Autograde Example 2](#1.2.)\n",
    "* * [1.3. Dataset Pipeline to Feed Model](#1.3.)\n",
    "* * [1.4. Pretrained Computer Vision Models](#1.4.)\n",
    "* * [1.5. Save and Load the Model](#1.5.)\n",
    "2. [Linear Regression](#2.)\n",
    "* * [2.1. Load Boston Dataset](#2.1.)\n",
    "* * [2.2. Prepare Dataloaders](#2.2.)\n",
    "* * [2.3. Create Model](#2.3.)\n",
    "* * [2.4. Define Loss Function and Optimizer](#2.4.)\n",
    "* * [2.5. Train Model](#2.5.)\n",
    "* * [2.6. Make Prediction](#2.6.)\n",
    "3. [Logistic Regression](#3.)\n",
    "* * [3.1. Load Breast Cancer Dataset](#3.1.)\n",
    "* * [3.2. Prepare Dataloaders](#3.2.)\n",
    "* * [3.3. Create Model](#3.3.)\n",
    "* * [3.4. Define Loss Function and Optimizer](#3.4.)\n",
    "* * [3.5. Train Model](#3.5.)\n",
    "* * [3.6. Make Prediction](#3.6.)\n",
    "4. [Feedforward Neural Network](#4.)\n",
    "* * [4.1. Load MNIST Dataset](#4.1.)\n",
    "* * [4.2. Prepare Dataloaders](#4.2.)\n",
    "* * [4.3. Create Model](#4.3.)\n",
    "* * [4.4. Define Loss Function and Optimizer](#4.4.)\n",
    "* * [4.5. Train Model](#4.5.)\n",
    "* * [4.6. Make Prediction](#4.6.)"
   ]
  },
  {
   "cell_type": "code",
   "execution_count": 60,
   "metadata": {
    "_cell_guid": "b1076dfc-b9ad-4769-8c92-a6c4dae69d19",
    "_uuid": "8f2839f25d086af736a60e9eeb907d3b93b6e0e5"
   },
   "outputs": [],
   "source": [
    "import numpy as np # linear algebra\n",
    "import pandas as pd # data processing, CSV file I/O (e.g. pd.read_csv)\n",
    "\n",
    "import torch\n",
    "import torchvision\n",
    "from torch import nn\n",
    "from torchvision import transforms\n",
    "from sklearn import datasets\n",
    "\n",
    "import os\n",
    "\n"
   ]
  },
  {
   "cell_type": "markdown",
   "metadata": {},
   "source": [
    "[Go to Contents Menu](#0.)\n",
    "<a class=\"anchor\" id=\"1.\"></a>\n",
    "\n",
    "# **1. Pytorch Basics**  "
   ]
  },
  {
   "cell_type": "markdown",
   "metadata": {},
   "source": [
    "[Go to Contents Menu](#0.)\n",
    "<a class=\"anchor\" id=\"1.1.\"></a>\n",
    "\n",
    "# **1.1. Autograde Example 1**  "
   ]
  },
  {
   "cell_type": "code",
   "execution_count": 61,
   "metadata": {},
   "outputs": [
    {
     "name": "stdout",
     "output_type": "stream",
     "text": [
      "tensor(1., requires_grad=True) tensor(2., requires_grad=True) tensor(3., requires_grad=True) \n",
      " 1.0 2.0 3.0\n",
      "x.grad: tensor(2.) \n",
      "w.grad: tensor(1.) \n",
      "b.grad: tensor(1.)\n"
     ]
    }
   ],
   "source": [
    "x = torch.tensor(1., requires_grad=True)\n",
    "w = torch.tensor(2., requires_grad=True)\n",
    "b = torch.tensor(3., requires_grad=True)\n",
    "\n",
    "print(x, w, b, \"\\n\",x.item(), w.item(), b.item())\n",
    "\n",
    "# Computional grap\n",
    "y = w*x + b\n",
    "#Compute gradient\n",
    "y.backward()\n",
    "print(\"x.grad:\",x.grad, \"\\nw.grad:\",w.grad, \"\\nb.grad:\",b.grad)"
   ]
  },
  {
   "cell_type": "markdown",
   "metadata": {},
   "source": [
    "[Go to Contents Menu](#0.)\n",
    "<a class=\"anchor\" id=\"1.2.\"></a>\n",
    "\n",
    "# **1.2. Autograde Example 2**  "
   ]
  },
  {
   "cell_type": "code",
   "execution_count": 62,
   "metadata": {},
   "outputs": [
    {
     "name": "stdout",
     "output_type": "stream",
     "text": [
      "loss: 0.7779600620269775\n",
      "w: tensor([[-0.2230,  0.2892, -0.0796],\n",
      "        [-0.2049,  0.0041,  0.2031]])\n",
      "b: tensor([-0.0305, -0.8985])\n",
      "After one step loss: 0.7677006125450134\n"
     ]
    }
   ],
   "source": [
    "x = torch.randn(10, 3)\n",
    "y = torch.randn(10, 2)\n",
    "\n",
    "linear = nn.Linear(3, 2)\n",
    "\n",
    "#Define loss function and optimizer\n",
    "loss_fn = nn.MSELoss()\n",
    "optimizer = torch.optim.SGD(linear.parameters(), lr=0.01)\n",
    "\n",
    "#forward pass\n",
    "pred = linear(x)\n",
    "#Compute loss\n",
    "loss = loss_fn(pred, y)\n",
    "print(\"loss:\", loss.item())\n",
    "\n",
    "#Backward pass\n",
    "loss.backward()\n",
    "\n",
    "#print gradients\n",
    "print(\"w:\", linear.weight.grad)\n",
    "print(\"b:\", linear.bias.grad)\n",
    "\n",
    "# Step gradient descent\n",
    "optimizer.step()\n",
    "\n",
    "\n",
    "#After one step optimization\n",
    "pred = linear(x)\n",
    "loss = loss_fn(pred, y)\n",
    "print(\"After one step loss:\", loss.item())\n",
    "\n"
   ]
  },
  {
   "cell_type": "markdown",
   "metadata": {},
   "source": [
    "[Go to Contents Menu](#0.)\n",
    "<a class=\"anchor\" id=\"1.3.\"></a>\n",
    "\n",
    "# **1.3. Dataset Pipeline to Feed Model**  "
   ]
  },
  {
   "cell_type": "code",
   "execution_count": 63,
   "metadata": {
    "scrolled": true
   },
   "outputs": [
    {
     "name": "stdout",
     "output_type": "stream",
     "text": [
      "Files already downloaded and verified\n",
      "torch.Size([3, 32, 32]) 6\n"
     ]
    }
   ],
   "source": [
    "train_dataset = torchvision.datasets.CIFAR10(root = \"data\",\n",
    "                                            train=True,\n",
    "                                            transform=transforms.ToTensor(),\n",
    "                                            download=True)\n",
    "image, label = train_dataset[0]\n",
    "print(image.shape, label)"
   ]
  },
  {
   "cell_type": "code",
   "execution_count": 64,
   "metadata": {},
   "outputs": [
    {
     "name": "stdout",
     "output_type": "stream",
     "text": [
      "torch.Size([64, 3, 32, 32]) torch.Size([64])\n"
     ]
    }
   ],
   "source": [
    "train_dataloader = torch.utils.data.DataLoader(dataset=train_dataset,\n",
    "                                              batch_size=64,\n",
    "                                               shuffle=True)\n",
    "data_iter = iter(train_dataloader)\n",
    "images, labels = data_iter.next()\n",
    "print(images.shape, labels.shape)"
   ]
  },
  {
   "cell_type": "code",
   "execution_count": 65,
   "metadata": {},
   "outputs": [
    {
     "data": {
      "image/png": "[encoded data removed]",
      "text/plain": [
       "<Figure size 360x360 with 9 Axes>"
      ]
     },
     "metadata": {},
     "output_type": "display_data"
    }
   ],
   "source": [
    "import matplotlib.pyplot as plt\n",
    "plt.figure(figsize=(5, 5))\n",
    "for i in range(9):\n",
    "    img = images[i]\n",
    "    plt.subplot(3, 3 , i+1)\n",
    "    plt.xticks([])\n",
    "    plt.yticks([])\n",
    "    plt.title(labels[i].item())\n",
    "    plt.imshow(img.moveaxis(0, 2))\n",
    "plt.show()"
   ]
  },
  {
   "cell_type": "code",
   "execution_count": 66,
   "metadata": {},
   "outputs": [],
   "source": [
    "class CustomDataset(torch.utils.data.Dataset):\n",
    "    def __init__(self):\n",
    "        #initialize file paths\n",
    "        pass\n",
    "    def __getitem__(self, index):\n",
    "        # preprocess data and return x, y\n",
    "        pass\n",
    "    def __len__(self):\n",
    "        # return length of dataset\n",
    "        pass\n",
    "    \n",
    "    \n"
   ]
  },
  {
   "cell_type": "markdown",
   "metadata": {},
   "source": [
    "[Go to Contents Menu](#0.)\n",
    "<a class=\"anchor\" id=\"1.4.\"></a>\n",
    "\n",
    "# **1.4. Pretrained Computer Vision Models**  "
   ]
  },
  {
   "cell_type": "code",
   "execution_count": 67,
   "metadata": {},
   "outputs": [
    {
     "name": "stdout",
     "output_type": "stream",
     "text": [
      "AlexNet\n",
      "DenseNet\n",
      "EfficientNet\n",
      "GoogLeNet\n",
      "GoogLeNetOutputs\n",
      "Inception3\n",
      "InceptionOutputs\n",
      "MNASNet\n",
      "MobileNetV2\n",
      "MobileNetV3\n",
      "RegNet\n",
      "ResNet\n",
      "ShuffleNetV2\n",
      "SqueezeNet\n",
      "VGG\n",
      "_GoogLeNetOutputs\n",
      "_InceptionOutputs\n",
      "_utils\n",
      "alexnet\n",
      "densenet\n",
      "densenet121\n",
      "densenet161\n",
      "densenet169\n",
      "densenet201\n",
      "detection\n",
      "efficientnet\n",
      "efficientnet_b0\n",
      "efficientnet_b1\n",
      "efficientnet_b2\n",
      "efficientnet_b3\n",
      "efficientnet_b4\n",
      "efficientnet_b5\n",
      "efficientnet_b6\n",
      "efficientnet_b7\n",
      "feature_extraction\n",
      "googlenet\n",
      "inception\n",
      "inception_v3\n",
      "mnasnet\n",
      "mnasnet0_5\n",
      "mnasnet0_75\n",
      "mnasnet1_0\n",
      "mnasnet1_3\n",
      "mobilenet\n",
      "mobilenet_v2\n",
      "mobilenet_v3_large\n",
      "mobilenet_v3_small\n",
      "mobilenetv2\n",
      "mobilenetv3\n",
      "quantization\n",
      "regnet\n",
      "regnet_x_16gf\n",
      "regnet_x_1_6gf\n",
      "regnet_x_32gf\n",
      "regnet_x_3_2gf\n",
      "regnet_x_400mf\n",
      "regnet_x_800mf\n",
      "regnet_x_8gf\n",
      "regnet_y_16gf\n",
      "regnet_y_1_6gf\n",
      "regnet_y_32gf\n",
      "regnet_y_3_2gf\n",
      "regnet_y_400mf\n",
      "regnet_y_800mf\n",
      "regnet_y_8gf\n",
      "resnet\n",
      "resnet101\n",
      "resnet152\n",
      "resnet18\n",
      "resnet34\n",
      "resnet50\n",
      "resnext101_32x8d\n",
      "resnext50_32x4d\n",
      "segmentation\n",
      "shufflenet_v2_x0_5\n",
      "shufflenet_v2_x1_0\n",
      "shufflenet_v2_x1_5\n",
      "shufflenet_v2_x2_0\n",
      "shufflenetv2\n",
      "squeezenet\n",
      "squeezenet1_0\n",
      "squeezenet1_1\n",
      "vgg\n",
      "vgg11\n",
      "vgg11_bn\n",
      "vgg13\n",
      "vgg13_bn\n",
      "vgg16\n",
      "vgg16_bn\n",
      "vgg19\n",
      "vgg19_bn\n",
      "video\n",
      "wide_resnet101_2\n",
      "wide_resnet50_2\n"
     ]
    }
   ],
   "source": [
    "print(*[name  for name in dir(torchvision.models) if \"__\" not in name], sep=\"\\n\")"
   ]
  },
  {
   "cell_type": "code",
   "execution_count": 68,
   "metadata": {},
   "outputs": [
    {
     "name": "stdout",
     "output_type": "stream",
     "text": [
      "FasterRCNN\n",
      "KeypointRCNN\n",
      "MaskRCNN\n",
      "RetinaNet\n",
      "SSD\n",
      "retinanet\n",
      "rpn\n",
      "ssd\n",
      "ssdlite\n",
      "transform\n"
     ]
    }
   ],
   "source": [
    "print(*[name  for name in dir(torchvision.models.detection) if \"_\" not in name], sep=\"\\n\")"
   ]
  },
  {
   "cell_type": "code",
   "execution_count": 69,
   "metadata": {},
   "outputs": [
    {
     "name": "stdout",
     "output_type": "stream",
     "text": [
      "DeepLabV3\n",
      "FCN\n",
      "LRASPP\n",
      "deeplabv3\n",
      "fcn\n",
      "lraspp\n",
      "segmentation\n"
     ]
    }
   ],
   "source": [
    "print(*[name  for name in dir(torchvision.models.segmentation) if \"_\" not in name], sep=\"\\n\")"
   ]
  },
  {
   "cell_type": "code",
   "execution_count": 70,
   "metadata": {},
   "outputs": [
    {
     "name": "stdout",
     "output_type": "stream",
     "text": [
      "torch.Size([64, 3, 224, 224]) torch.Size([64, 10])\n"
     ]
    }
   ],
   "source": [
    "model = torchvision.models.mobilenet_v2(pretrained=True)\n",
    "model.classifier[1] = nn.Linear(model.last_channel, 10)\n",
    "\n",
    "sampels = torch.Tensor(64, 3 ,224 ,224)\n",
    "outputs = model(sampels)\n",
    "print(sampels.shape, outputs.shape)"
   ]
  },
  {
   "cell_type": "code",
   "execution_count": 71,
   "metadata": {},
   "outputs": [],
   "source": [
    "model = torchvision.models.mobilenet_v2(pretrained=True)\n",
    "# To fine tune model freeze layers\n",
    "for parameter in model.parameters():\n",
    "    parameter.require_grad = False\n",
    "    \n",
    "model.classifier[1] = nn.Linear(model.last_channel, 10)"
   ]
  },
  {
   "cell_type": "markdown",
   "metadata": {},
   "source": [
    "[Go to Contents Menu](#0.)\n",
    "<a class=\"anchor\" id=\"1.5.\"></a>\n",
    "\n",
    "# **1.5. Save and Load the Model**  "
   ]
  },
  {
   "cell_type": "code",
   "execution_count": 72,
   "metadata": {},
   "outputs": [],
   "source": [
    "model_name = \"mobilenetv2.pt\"\n",
    "torch.save(model, model_name)\n",
    "model = torch.load(model_name)"
   ]
  },
  {
   "cell_type": "code",
   "execution_count": 73,
   "metadata": {},
   "outputs": [
    {
     "data": {
      "text/plain": [
       "<All keys matched successfully>"
      ]
     },
     "execution_count": 73,
     "metadata": {},
     "output_type": "execute_result"
    }
   ],
   "source": [
    "torch.save(model.state_dict(), model_name)\n",
    "model.load_state_dict(torch.load(model_name))"
   ]
  },
  {
   "cell_type": "markdown",
   "metadata": {},
   "source": [
    "[Go to Contents Menu](#0.)\n",
    "<a class=\"anchor\" id=\"2.\"></a>\n",
    "\n",
    "# **2. Linear Regression**  "
   ]
  },
  {
   "cell_type": "markdown",
   "metadata": {},
   "source": [
    "[Go to Contents Menu](#0.)\n",
    "<a class=\"anchor\" id=\"2.1.\"></a>\n",
    "\n",
    "# **2.1. Load Boston Dataset**  "
   ]
  },
  {
   "cell_type": "code",
   "execution_count": 74,
   "metadata": {},
   "outputs": [],
   "source": [
    "boston = datasets.load_boston()"
   ]
  },
  {
   "cell_type": "code",
   "execution_count": 75,
   "metadata": {},
   "outputs": [
    {
     "data": {
      "text/plain": [
       "['DESCR', 'data', 'feature_names', 'filename', 'target']"
      ]
     },
     "execution_count": 75,
     "metadata": {},
     "output_type": "execute_result"
    }
   ],
   "source": [
    "dir(boston)"
   ]
  },
  {
   "cell_type": "code",
   "execution_count": 76,
   "metadata": {},
   "outputs": [
    {
     "name": "stdout",
     "output_type": "stream",
     "text": [
      "(506, 13) (506,)\n",
      "float64 float64\n"
     ]
    }
   ],
   "source": [
    "X = boston.data\n",
    "y = boston.target\n",
    "print(X.shape, y.shape)\n",
    "print(X.dtype, y.dtype)\n",
    "\n",
    "from sklearn.preprocessing import StandardScaler\n",
    "ss = StandardScaler()\n",
    "ss.fit(X)\n",
    "X = ss.transform(X)"
   ]
  },
  {
   "cell_type": "code",
   "execution_count": 77,
   "metadata": {},
   "outputs": [],
   "source": [
    "X = torch.tensor(X, dtype=torch.float)\n",
    "\n",
    "y = torch.tensor(y, dtype=torch.float).view(-1, 1)"
   ]
  },
  {
   "cell_type": "markdown",
   "metadata": {},
   "source": [
    "[Go to Contents Menu](#0.)\n",
    "<a class=\"anchor\" id=\"2.2.\"></a>\n",
    "\n",
    "# **2.2. Prepare Dataloaders**  "
   ]
  },
  {
   "cell_type": "code",
   "execution_count": 78,
   "metadata": {},
   "outputs": [
    {
     "name": "stdout",
     "output_type": "stream",
     "text": [
      "torch.Size([1, 13]) torch.Size([1, 1])\n"
     ]
    }
   ],
   "source": [
    "class BostonDataset(torch.utils.data.Dataset):\n",
    "    def __init__(self, X, y):\n",
    "        self.X = X\n",
    "        self.y = y\n",
    "    def __getitem__(self, index):\n",
    "        return X[index], y[index]\n",
    "    def __len__(self):\n",
    "        return len(X)\n",
    "    \n",
    "\n",
    "train_dataset = BostonDataset(X, y)\n",
    "#train_dataset = torch.utils.data.TensorDataset(X, y)\n",
    "train_dataloader = torch.utils.data.DataLoader(dataset=train_dataset,\n",
    "                                              batch_size=1,\n",
    "                                               shuffle=True)\n",
    "data_iter = iter(train_dataloader)\n",
    "x_batch, y_batch = data_iter.next()\n",
    "print(x_batch.shape, y_batch.shape)"
   ]
  },
  {
   "cell_type": "markdown",
   "metadata": {},
   "source": [
    "[Go to Contents Menu](#0.)\n",
    "<a class=\"anchor\" id=\"2.3.\"></a>\n",
    "\n",
    "# **2.3. Create Model**  "
   ]
  },
  {
   "cell_type": "code",
   "execution_count": 79,
   "metadata": {},
   "outputs": [
    {
     "name": "stdout",
     "output_type": "stream",
     "text": [
      "tensor([[0.1975]], grad_fn=<AddmmBackward0>)\n"
     ]
    }
   ],
   "source": [
    "model = torch.nn.Sequential(nn.Linear(X.shape[1], 1))\n",
    "print(model(x_batch))"
   ]
  },
  {
   "cell_type": "markdown",
   "metadata": {},
   "source": [
    "[Go to Contents Menu](#0.)\n",
    "<a class=\"anchor\" id=\"2.4.\"></a>\n",
    "\n",
    "# **2.4. Define Loss Function and Optimizer**"
   ]
  },
  {
   "cell_type": "code",
   "execution_count": 80,
   "metadata": {},
   "outputs": [],
   "source": [
    "epochs = 50\n",
    "loss_fn = nn.MSELoss()\n",
    "optimizer = torch.optim.SGD(model.parameters(), lr=0.001)\n"
   ]
  },
  {
   "cell_type": "markdown",
   "metadata": {},
   "source": [
    "[Go to Contents Menu](#0.)\n",
    "<a class=\"anchor\" id=\"2.5.\"></a>\n",
    "\n",
    "# **2.5. Train Model**"
   ]
  },
  {
   "cell_type": "code",
   "execution_count": 81,
   "metadata": {},
   "outputs": [
    {
     "name": "stdout",
     "output_type": "stream",
     "text": [
      "12/50 loss:0.2020168900489807\n",
      "24/50 loss:0.0001074630708899349\n",
      "36/50 loss:5.053088665008545\n",
      "48/50 loss:19.330768585205078\n"
     ]
    }
   ],
   "source": [
    "for  epoch in range(epochs):\n",
    "    for X_batch, y_batch in train_dataloader:\n",
    "        #X_batch = torch.FloatTensor(X_batch)\n",
    "        #y_batch = torch.FloatTensor(y_batch)\n",
    "        \n",
    "        pred = model(X_batch)\n",
    "        loss = loss_fn(pred, y_batch)\n",
    "        # print(loss.item(), end=\" \")\n",
    "        \n",
    "        optimizer.zero_grad()\n",
    "        loss.backward()\n",
    "        optimizer.step()\n",
    "    if (epoch + 1) % int(epochs / 4) == 0:\n",
    "        print(f\"{epoch + 1}/{epochs} loss:{loss.item()}\")"
   ]
  },
  {
   "cell_type": "markdown",
   "metadata": {},
   "source": [
    "[Go to Contents Menu](#0.)\n",
    "<a class=\"anchor\" id=\"2.6.\"></a>\n",
    "\n",
    "# **2.6. Make Prediction**"
   ]
  },
  {
   "cell_type": "code",
   "execution_count": 82,
   "metadata": {},
   "outputs": [
    {
     "data": {
      "text/plain": [
       "(506, 1)"
      ]
     },
     "execution_count": 82,
     "metadata": {},
     "output_type": "execute_result"
    }
   ],
   "source": [
    "predicted = model(X).detach().numpy()\n",
    "predicted.shape"
   ]
  },
  {
   "cell_type": "code",
   "execution_count": 83,
   "metadata": {},
   "outputs": [
    {
     "name": "stdout",
     "output_type": "stream",
     "text": [
      "tensor([24.]) [30.277664]\n",
      "tensor([21.6000]) [25.120586]\n",
      "tensor([34.7000]) [30.770748]\n",
      "tensor([33.4000]) [28.853264]\n",
      "tensor([36.2000]) [28.163918]\n",
      "tensor([28.7000]) [25.439255]\n",
      "tensor([22.9000]) [23.067305]\n",
      "tensor([27.1000]) [19.511322]\n",
      "tensor([16.5000]) [11.357694]\n",
      "tensor([18.9000]) [18.91935]\n"
     ]
    }
   ],
   "source": [
    "for i in range(10):\n",
    "    print(y[i], predicted[i])"
   ]
  },
  {
   "cell_type": "code",
   "execution_count": 84,
   "metadata": {},
   "outputs": [
    {
     "data": {
      "image/png": "[encoded data removed]",
      "text/plain": [
       "<Figure size 432x288 with 1 Axes>"
      ]
     },
     "metadata": {
      "needs_background": "light"
     },
     "output_type": "display_data"
    }
   ],
   "source": [
    "\n",
    "plt.plot(y.flatten(), label='Original data')\n",
    "plt.plot(predicted.flatten(), label='Fitted line')\n",
    "plt.legend()\n",
    "plt.show()"
   ]
  },
  {
   "cell_type": "markdown",
   "metadata": {},
   "source": [
    "[Go to Contents Menu](#0.)\n",
    "<a class=\"anchor\" id=\"3.\"></a>\n",
    "\n",
    "# **3. Logistic Regression**  "
   ]
  },
  {
   "cell_type": "markdown",
   "metadata": {},
   "source": [
    "[Go to Contents Menu](#0.)\n",
    "<a class=\"anchor\" id=\"3.1.\"></a>\n",
    "\n",
    "# **3.1. Load Breast Cancer Dataset**  "
   ]
  },
  {
   "cell_type": "code",
   "execution_count": 85,
   "metadata": {},
   "outputs": [
    {
     "data": {
      "text/plain": [
       "['DESCR',\n",
       " 'data',\n",
       " 'feature_names',\n",
       " 'filename',\n",
       " 'frame',\n",
       " 'target',\n",
       " 'target_names']"
      ]
     },
     "execution_count": 85,
     "metadata": {},
     "output_type": "execute_result"
    }
   ],
   "source": [
    "breast_cancer = datasets.load_breast_cancer()\n",
    "dir(breast_cancer)"
   ]
  },
  {
   "cell_type": "code",
   "execution_count": 86,
   "metadata": {},
   "outputs": [
    {
     "name": "stdout",
     "output_type": "stream",
     "text": [
      "[0 1]\n"
     ]
    },
    {
     "data": {
      "text/html": [
       "<div>\n",
       "<style scoped>\n",
       "    .dataframe tbody tr th:only-of-type {\n",
       "        vertical-align: middle;\n",
       "    }\n",
       "\n",
       "    .dataframe tbody tr th {\n",
       "        vertical-align: top;\n",
       "    }\n",
       "\n",
       "    .dataframe thead th {\n",
       "        text-align: right;\n",
       "    }\n",
       "</style>\n",
       "<table border=\"1\" class=\"dataframe\">\n",
       "  <thead>\n",
       "    <tr style=\"text-align: right;\">\n",
       "      <th></th>\n",
       "      <th>mean radius</th>\n",
       "      <th>mean texture</th>\n",
       "      <th>mean perimeter</th>\n",
       "      <th>mean area</th>\n",
       "      <th>mean smoothness</th>\n",
       "      <th>mean compactness</th>\n",
       "      <th>mean concavity</th>\n",
       "      <th>mean concave points</th>\n",
       "      <th>mean symmetry</th>\n",
       "      <th>mean fractal dimension</th>\n",
       "      <th>...</th>\n",
       "      <th>worst texture</th>\n",
       "      <th>worst perimeter</th>\n",
       "      <th>worst area</th>\n",
       "      <th>worst smoothness</th>\n",
       "      <th>worst compactness</th>\n",
       "      <th>worst concavity</th>\n",
       "      <th>worst concave points</th>\n",
       "      <th>worst symmetry</th>\n",
       "      <th>worst fractal dimension</th>\n",
       "      <th>target</th>\n",
       "    </tr>\n",
       "  </thead>\n",
       "  <tbody>\n",
       "    <tr>\n",
       "      <th>0</th>\n",
       "      <td>17.99</td>\n",
       "      <td>10.38</td>\n",
       "      <td>122.80</td>\n",
       "      <td>1001.0</td>\n",
       "      <td>0.11840</td>\n",
       "      <td>0.27760</td>\n",
       "      <td>0.3001</td>\n",
       "      <td>0.14710</td>\n",
       "      <td>0.2419</td>\n",
       "      <td>0.07871</td>\n",
       "      <td>...</td>\n",
       "      <td>17.33</td>\n",
       "      <td>184.60</td>\n",
       "      <td>2019.0</td>\n",
       "      <td>0.1622</td>\n",
       "      <td>0.6656</td>\n",
       "      <td>0.7119</td>\n",
       "      <td>0.2654</td>\n",
       "      <td>0.4601</td>\n",
       "      <td>0.11890</td>\n",
       "      <td>0</td>\n",
       "    </tr>\n",
       "    <tr>\n",
       "      <th>1</th>\n",
       "      <td>20.57</td>\n",
       "      <td>17.77</td>\n",
       "      <td>132.90</td>\n",
       "      <td>1326.0</td>\n",
       "      <td>0.08474</td>\n",
       "      <td>0.07864</td>\n",
       "      <td>0.0869</td>\n",
       "      <td>0.07017</td>\n",
       "      <td>0.1812</td>\n",
       "      <td>0.05667</td>\n",
       "      <td>...</td>\n",
       "      <td>23.41</td>\n",
       "      <td>158.80</td>\n",
       "      <td>1956.0</td>\n",
       "      <td>0.1238</td>\n",
       "      <td>0.1866</td>\n",
       "      <td>0.2416</td>\n",
       "      <td>0.1860</td>\n",
       "      <td>0.2750</td>\n",
       "      <td>0.08902</td>\n",
       "      <td>0</td>\n",
       "    </tr>\n",
       "    <tr>\n",
       "      <th>2</th>\n",
       "      <td>19.69</td>\n",
       "      <td>21.25</td>\n",
       "      <td>130.00</td>\n",
       "      <td>1203.0</td>\n",
       "      <td>0.10960</td>\n",
       "      <td>0.15990</td>\n",
       "      <td>0.1974</td>\n",
       "      <td>0.12790</td>\n",
       "      <td>0.2069</td>\n",
       "      <td>0.05999</td>\n",
       "      <td>...</td>\n",
       "      <td>25.53</td>\n",
       "      <td>152.50</td>\n",
       "      <td>1709.0</td>\n",
       "      <td>0.1444</td>\n",
       "      <td>0.4245</td>\n",
       "      <td>0.4504</td>\n",
       "      <td>0.2430</td>\n",
       "      <td>0.3613</td>\n",
       "      <td>0.08758</td>\n",
       "      <td>0</td>\n",
       "    </tr>\n",
       "    <tr>\n",
       "      <th>3</th>\n",
       "      <td>11.42</td>\n",
       "      <td>20.38</td>\n",
       "      <td>77.58</td>\n",
       "      <td>386.1</td>\n",
       "      <td>0.14250</td>\n",
       "      <td>0.28390</td>\n",
       "      <td>0.2414</td>\n",
       "      <td>0.10520</td>\n",
       "      <td>0.2597</td>\n",
       "      <td>0.09744</td>\n",
       "      <td>...</td>\n",
       "      <td>26.50</td>\n",
       "      <td>98.87</td>\n",
       "      <td>567.7</td>\n",
       "      <td>0.2098</td>\n",
       "      <td>0.8663</td>\n",
       "      <td>0.6869</td>\n",
       "      <td>0.2575</td>\n",
       "      <td>0.6638</td>\n",
       "      <td>0.17300</td>\n",
       "      <td>0</td>\n",
       "    </tr>\n",
       "    <tr>\n",
       "      <th>4</th>\n",
       "      <td>20.29</td>\n",
       "      <td>14.34</td>\n",
       "      <td>135.10</td>\n",
       "      <td>1297.0</td>\n",
       "      <td>0.10030</td>\n",
       "      <td>0.13280</td>\n",
       "      <td>0.1980</td>\n",
       "      <td>0.10430</td>\n",
       "      <td>0.1809</td>\n",
       "      <td>0.05883</td>\n",
       "      <td>...</td>\n",
       "      <td>16.67</td>\n",
       "      <td>152.20</td>\n",
       "      <td>1575.0</td>\n",
       "      <td>0.1374</td>\n",
       "      <td>0.2050</td>\n",
       "      <td>0.4000</td>\n",
       "      <td>0.1625</td>\n",
       "      <td>0.2364</td>\n",
       "      <td>0.07678</td>\n",
       "      <td>0</td>\n",
       "    </tr>\n",
       "  </tbody>\n",
       "</table>\n",
       "<p>5 rows × 31 columns</p>\n",
       "</div>"
      ],
      "text/plain": [
       "   mean radius  mean texture  mean perimeter  mean area  mean smoothness  \\\n",
       "0        17.99         10.38          122.80     1001.0          0.11840   \n",
       "1        20.57         17.77          132.90     1326.0          0.08474   \n",
       "2        19.69         21.25          130.00     1203.0          0.10960   \n",
       "3        11.42         20.38           77.58      386.1          0.14250   \n",
       "4        20.29         14.34          135.10     1297.0          0.10030   \n",
       "\n",
       "   mean compactness  mean concavity  mean concave points  mean symmetry  \\\n",
       "0           0.27760          0.3001              0.14710         0.2419   \n",
       "1           0.07864          0.0869              0.07017         0.1812   \n",
       "2           0.15990          0.1974              0.12790         0.2069   \n",
       "3           0.28390          0.2414              0.10520         0.2597   \n",
       "4           0.13280          0.1980              0.10430         0.1809   \n",
       "\n",
       "   mean fractal dimension  ...  worst texture  worst perimeter  worst area  \\\n",
       "0                 0.07871  ...          17.33           184.60      2019.0   \n",
       "1                 0.05667  ...          23.41           158.80      1956.0   \n",
       "2                 0.05999  ...          25.53           152.50      1709.0   \n",
       "3                 0.09744  ...          26.50            98.87       567.7   \n",
       "4                 0.05883  ...          16.67           152.20      1575.0   \n",
       "\n",
       "   worst smoothness  worst compactness  worst concavity  worst concave points  \\\n",
       "0            0.1622             0.6656           0.7119                0.2654   \n",
       "1            0.1238             0.1866           0.2416                0.1860   \n",
       "2            0.1444             0.4245           0.4504                0.2430   \n",
       "3            0.2098             0.8663           0.6869                0.2575   \n",
       "4            0.1374             0.2050           0.4000                0.1625   \n",
       "\n",
       "   worst symmetry  worst fractal dimension  target  \n",
       "0          0.4601                  0.11890       0  \n",
       "1          0.2750                  0.08902       0  \n",
       "2          0.3613                  0.08758       0  \n",
       "3          0.6638                  0.17300       0  \n",
       "4          0.2364                  0.07678       0  \n",
       "\n",
       "[5 rows x 31 columns]"
      ]
     },
     "execution_count": 86,
     "metadata": {},
     "output_type": "execute_result"
    }
   ],
   "source": [
    "X = breast_cancer.data\n",
    "y = breast_cancer.target\n",
    "print(np.unique(y))\n",
    "\n",
    "df  = pd.DataFrame(X)\n",
    "df.columns = breast_cancer.feature_names\n",
    "df['target'] = y\n",
    "df.head()"
   ]
  },
  {
   "cell_type": "code",
   "execution_count": 87,
   "metadata": {},
   "outputs": [],
   "source": [
    "# df.info()"
   ]
  },
  {
   "cell_type": "code",
   "execution_count": 88,
   "metadata": {},
   "outputs": [],
   "source": [
    "#dir(torch)"
   ]
  },
  {
   "cell_type": "code",
   "execution_count": 89,
   "metadata": {},
   "outputs": [],
   "source": [
    "X = torch.tensor(X, dtype=torch.float)\n",
    "\n",
    "y = torch.tensor(y).view(-1, 1)"
   ]
  },
  {
   "cell_type": "markdown",
   "metadata": {},
   "source": [
    "[Go to Contents Menu](#0.)\n",
    "<a class=\"anchor\" id=\"3.2.\"></a>\n",
    "\n",
    "# **3.2. Prepare Dataset Loader**  "
   ]
  },
  {
   "cell_type": "code",
   "execution_count": 90,
   "metadata": {},
   "outputs": [],
   "source": [
    "class BreastCancerDataset(torch.utils.data.Dataset):\n",
    "    def __init__(self, X, y):\n",
    "        self.X = X\n",
    "        self.y = y\n",
    "    def __getitem__(self, idx):\n",
    "        return X[idx], y[idx]\n",
    "    def __len__(self):\n",
    "        return len(X)\n",
    "    \n",
    "train_dataset = BreastCancerDataset(X, y)\n",
    "\n",
    "train_dataloader = torch.utils.data.DataLoader(dataset=train_dataset,\n",
    "                                              batch_size=1,\n",
    "                                              shuffle=True)\n"
   ]
  },
  {
   "cell_type": "code",
   "execution_count": 91,
   "metadata": {},
   "outputs": [
    {
     "name": "stdout",
     "output_type": "stream",
     "text": [
      "torch.Size([1, 30]) torch.Size([1, 1])\n"
     ]
    }
   ],
   "source": [
    "train_dataloader_iter = iter(train_dataloader)\n",
    "x_batch, y_batch = next(train_dataloader_iter)\n",
    "print(x_batch.shape, y_batch.shape)"
   ]
  },
  {
   "cell_type": "code",
   "execution_count": 92,
   "metadata": {},
   "outputs": [],
   "source": [
    "from sklearn.model_selection import train_test_split\n",
    "X = breast_cancer.data\n",
    "y = breast_cancer.target\n",
    "X_train, X_test, y_train, y_test = train_test_split(X, y, stratify=y, test_size=0.25, random_state=35)\n",
    "\n",
    "train_dataset = torch.utils.data.TensorDataset(torch.from_numpy(X_train).float(),\n",
    "                                 torch.from_numpy(y_train).long())\n",
    "train_dataloader = torch.utils.data.DataLoader(train_dataset, batch_size=32, shuffle=False)\n",
    "\n",
    "test_dataset = torch.utils.data.TensorDataset(torch.from_numpy(X_test).float(),\n",
    "                                 torch.from_numpy(y_test).long())\n",
    "test_dataloader = torch.utils.data.DataLoader(test_dataset, batch_size=32, shuffle=False)"
   ]
  },
  {
   "cell_type": "markdown",
   "metadata": {},
   "source": [
    "[Go to Contents Menu](#0.)\n",
    "<a class=\"anchor\" id=\"3.3.\"></a>\n",
    "\n",
    "# **3.3. Create Model**  "
   ]
  },
  {
   "cell_type": "code",
   "execution_count": 93,
   "metadata": {},
   "outputs": [],
   "source": [
    "# model = nn.Linear(X.shape[1], 2)\n",
    "model = torch.nn.Sequential(nn.Linear(X.shape[1], 2))"
   ]
  },
  {
   "cell_type": "markdown",
   "metadata": {},
   "source": [
    "[Go to Contents Menu](#0.)\n",
    "<a class=\"anchor\" id=\"3.4.\"></a>\n",
    "\n",
    "# **3.4. Define Loss Function and Optimizer**  "
   ]
  },
  {
   "cell_type": "code",
   "execution_count": 94,
   "metadata": {},
   "outputs": [],
   "source": [
    "loss_fn  = nn.CrossEntropyLoss()\n",
    "optimizer = torch.optim.SGD(model.parameters(), lr=0.001)"
   ]
  },
  {
   "cell_type": "markdown",
   "metadata": {},
   "source": [
    "[Go to Contents Menu](#0.)\n",
    "<a class=\"anchor\" id=\"3.5.\"></a>\n",
    "\n",
    "# **3.5. Train the Model**  "
   ]
  },
  {
   "cell_type": "code",
   "execution_count": 95,
   "metadata": {},
   "outputs": [
    {
     "name": "stdout",
     "output_type": "stream",
     "text": [
      "25/100 loss:125.5300064086914\n",
      "50/100 loss:67.73299407958984\n",
      "75/100 loss:69.79634857177734\n",
      "100/100 loss:13.141519546508789\n"
     ]
    }
   ],
   "source": [
    "epochs = 100\n",
    "for  epoch in range(epochs):\n",
    "    for X_batch, y_batch in train_dataloader:\n",
    "        #X_batch = torch.FloatTensor(X_batch)\n",
    "        #y_batch = torch.FloatTensor(y_batch)\n",
    "        y_batch = y_batch.squeeze_()\n",
    "        pred = model(X_batch)\n",
    "        loss = loss_fn(pred, y_batch)\n",
    "        # print(loss.item(), end=\" \")\n",
    "        \n",
    "        optimizer.zero_grad()\n",
    "        loss.backward()\n",
    "        optimizer.step()\n",
    "        \n",
    "    if (epoch + 1) % int(epochs/4) == 0:\n",
    "        print(f\"{epoch + 1}/{epochs} loss:{loss.item()}\")\n",
    "\n"
   ]
  },
  {
   "cell_type": "markdown",
   "metadata": {},
   "source": [
    "[Go to Contents Menu](#0.)\n",
    "<a class=\"anchor\" id=\"3.6.\"></a>\n",
    "\n",
    "# **3.6. Make Predictions**  "
   ]
  },
  {
   "cell_type": "code",
   "execution_count": 96,
   "metadata": {},
   "outputs": [
    {
     "data": {
      "text/plain": [
       "(426, 2)"
      ]
     },
     "execution_count": 96,
     "metadata": {},
     "output_type": "execute_result"
    }
   ],
   "source": [
    "y_train_pred = model(torch.tensor(X_train, dtype=torch.float)).detach().numpy()\n",
    "y_train_pred.shape"
   ]
  },
  {
   "cell_type": "code",
   "execution_count": 97,
   "metadata": {},
   "outputs": [
    {
     "name": "stdout",
     "output_type": "stream",
     "text": [
      "0.9225352112676056\n"
     ]
    }
   ],
   "source": [
    "from sklearn import metrics\n",
    "print(metrics.accuracy_score(np.argmax(y_train_pred, axis=1), y_train))"
   ]
  },
  {
   "cell_type": "code",
   "execution_count": 98,
   "metadata": {},
   "outputs": [],
   "source": [
    "y_test_pred = model(torch.tensor(X_test, dtype=torch.float)).detach().numpy()"
   ]
  },
  {
   "cell_type": "code",
   "execution_count": 99,
   "metadata": {},
   "outputs": [
    {
     "name": "stdout",
     "output_type": "stream",
     "text": [
      "0.9020979020979021\n",
      "[[41  2]\n",
      " [12 88]]\n",
      "              precision    recall  f1-score   support\n",
      "\n",
      "           0       0.77      0.95      0.85        43\n",
      "           1       0.98      0.88      0.93       100\n",
      "\n",
      "    accuracy                           0.90       143\n",
      "   macro avg       0.88      0.92      0.89       143\n",
      "weighted avg       0.92      0.90      0.90       143\n",
      "\n"
     ]
    }
   ],
   "source": [
    "print(metrics.accuracy_score(np.argmax(y_test_pred, axis=1), y_test))\n",
    "print(metrics.confusion_matrix(np.argmax(y_test_pred, axis=1), y_test))\n",
    "print(metrics.classification_report(np.argmax(y_test_pred, axis=1), y_test))"
   ]
  },
  {
   "cell_type": "markdown",
   "metadata": {},
   "source": [
    "[Go to Contents Menu](#0.)\n",
    "<a class=\"anchor\" id=\"4.\"></a>\n",
    "\n",
    "# **4. Feedforward Neural Network**  "
   ]
  },
  {
   "cell_type": "code",
   "execution_count": 100,
   "metadata": {},
   "outputs": [
    {
     "name": "stdout",
     "output_type": "stream",
     "text": [
      "device: cuda\n"
     ]
    }
   ],
   "source": [
    "# Device configuration\n",
    "device = torch.device('cuda' if torch.cuda.is_available() else 'cpu')\n",
    "print(\"device:\", device)"
   ]
  },
  {
   "cell_type": "markdown",
   "metadata": {},
   "source": [
    "[Go to Contents Menu](#0.)\n",
    "<a class=\"anchor\" id=\"4.1.\"></a>\n",
    "\n",
    "# **4.1. Load MNIST Dataset**  "
   ]
  },
  {
   "cell_type": "code",
   "execution_count": 101,
   "metadata": {},
   "outputs": [],
   "source": [
    "train_dataset = torchvision.datasets.MNIST(root=\"data\",\n",
    "                                          train=True,\n",
    "                                          transform=transforms.ToTensor(),\n",
    "                                          download=True)\n",
    "test_dataset = torchvision.datasets.MNIST(root=\"data\",\n",
    "                                        train=False,\n",
    "                                        transform=transforms.ToTensor())"
   ]
  },
  {
   "cell_type": "markdown",
   "metadata": {},
   "source": [
    "[Go to Contents Menu](#0.)\n",
    "<a class=\"anchor\" id=\"4.2.\"></a>\n",
    "\n",
    "# **4.2. Prepare Dataloaders**  "
   ]
  },
  {
   "cell_type": "code",
   "execution_count": 102,
   "metadata": {},
   "outputs": [],
   "source": [
    "train_dataloader = torch.utils.data.DataLoader(dataset=train_dataset,\n",
    "                                              batch_size=32,\n",
    "                                              shuffle=True)\n",
    "test_dataloader = torch.utils.data.DataLoader(dataset=test_dataset,\n",
    "                                             batch_size=32,\n",
    "                                             shuffle=False)"
   ]
  },
  {
   "cell_type": "code",
   "execution_count": 103,
   "metadata": {},
   "outputs": [
    {
     "name": "stdout",
     "output_type": "stream",
     "text": [
      "torch.Size([32, 1, 28, 28]) torch.Size([32])\n"
     ]
    }
   ],
   "source": [
    "x_batch, y_batch = next(iter(train_dataloader))\n",
    "print(x_batch.shape, y_batch.shape)"
   ]
  },
  {
   "cell_type": "code",
   "execution_count": 104,
   "metadata": {},
   "outputs": [
    {
     "data": {
      "text/plain": [
       "(60000, 10016)"
      ]
     },
     "execution_count": 104,
     "metadata": {},
     "output_type": "execute_result"
    }
   ],
   "source": [
    "len(train_dataloader)*32, len(test_dataloader)*32"
   ]
  },
  {
   "cell_type": "markdown",
   "metadata": {},
   "source": [
    "[Go to Contents Menu](#0.)\n",
    "<a class=\"anchor\" id=\"4.3.\"></a>\n",
    "\n",
    "# **4.3. Create Model**  "
   ]
  },
  {
   "cell_type": "code",
   "execution_count": 105,
   "metadata": {},
   "outputs": [],
   "source": [
    "class NN(nn.Module):\n",
    "    def __init__(self, input_size, hidden_size, num_class):\n",
    "        super(NN, self).__init__()\n",
    "        self.fc1 = nn.Linear(input_size, hidden_size)\n",
    "        self.relu = nn.ReLU()\n",
    "        self.fc2 = nn.Linear(hidden_size, num_class)\n",
    "        \n",
    "    def forward(self, x):\n",
    "        output = self.fc1(x)\n",
    "        output = self.relu(output)\n",
    "        output = self.fc2(output)\n",
    "        return output\n",
    "\n",
    "model = NN(28*28, 512, 10).to(device)"
   ]
  },
  {
   "cell_type": "markdown",
   "metadata": {},
   "source": [
    "[Go to Contents Menu](#0.)\n",
    "<a class=\"anchor\" id=\"4.4.\"></a>\n",
    "\n",
    "# **4.4. Define Loss Functions and Optimizer**  "
   ]
  },
  {
   "cell_type": "code",
   "execution_count": 106,
   "metadata": {},
   "outputs": [],
   "source": [
    "loss_fn = nn.CrossEntropyLoss()\n",
    "optimizer = torch.optim.Adam(model.parameters(), lr=0.001)"
   ]
  },
  {
   "cell_type": "markdown",
   "metadata": {},
   "source": [
    "[Go to Contents Menu](#0.)\n",
    "<a class=\"anchor\" id=\"4.5.\"></a>\n",
    "\n",
    "# **4.5. Train the Model**  "
   ]
  },
  {
   "cell_type": "code",
   "execution_count": 107,
   "metadata": {},
   "outputs": [
    {
     "name": "stdout",
     "output_type": "stream",
     "text": [
      "5/10 loss:0.0037733300123363733\n",
      "10/10 loss:0.0036720754578709602\n"
     ]
    }
   ],
   "source": [
    "epochs = 10\n",
    "for epoch in range(epochs):\n",
    "    for i, (images, labels) in enumerate(train_dataloader):\n",
    "        images = images.reshape(-1, 28*28).to(device)\n",
    "        labels = labels.to(device)\n",
    "        \n",
    "        pred = model(images)\n",
    "        loss = loss_fn(pred, labels)\n",
    "        \n",
    "        optimizer.zero_grad()\n",
    "        loss.backward()\n",
    "        optimizer.step()\n",
    "        \n",
    "    if (epoch + 1) % int(epochs / 2) == 0:    \n",
    "        print(f\"{epoch+1}/{epochs} loss:{loss.item()}\")\n",
    "        "
   ]
  },
  {
   "cell_type": "markdown",
   "metadata": {},
   "source": [
    "[Go to Contents Menu](#0.)\n",
    "<a class=\"anchor\" id=\"4.6.\"></a>\n",
    "\n",
    "# **4.6. Make Predictions**  "
   ]
  },
  {
   "cell_type": "code",
   "execution_count": 108,
   "metadata": {},
   "outputs": [],
   "source": [
    "def evaluate(model, dataloader):\n",
    "    correct, total = 0, 0\n",
    "    with torch.no_grad():\n",
    "        for i, (images, labels) in enumerate(dataloader):\n",
    "            images = images.reshape(-1, 28*28).to(device)\n",
    "            labels = labels.to(device)\n",
    "\n",
    "            outputs = model(images)\n",
    "            _, predictions = torch.max(outputs.data, 1)\n",
    "            total += labels.size(0)\n",
    "            correct += (predictions == labels).sum().item()\n",
    "    return correct/total"
   ]
  },
  {
   "cell_type": "code",
   "execution_count": 109,
   "metadata": {},
   "outputs": [
    {
     "name": "stdout",
     "output_type": "stream",
     "text": [
      "train acc:0.997\n"
     ]
    }
   ],
   "source": [
    "print(\"train acc:{:.3f}\".format(evaluate(model, train_dataloader)))"
   ]
  },
  {
   "cell_type": "code",
   "execution_count": 110,
   "metadata": {},
   "outputs": [
    {
     "name": "stdout",
     "output_type": "stream",
     "text": [
      "test acc:0.981\n"
     ]
    }
   ],
   "source": [
    " print(\"test acc:{:.3f}\".format(evaluate(model, test_dataloader)))"
   ]
  },
  {
   "cell_type": "code",
   "execution_count": null,
   "metadata": {},
   "outputs": [],
   "source": []
  }
 ],
 "metadata": {
  "kernelspec": {
   "display_name": "rknn-tabular",
   "language": "python",
   "name": "rknn-tabular"
  },
  "language_info": {
   "codemirror_mode": {
    "name": "ipython",
    "version": 3
   },
   "file_extension": ".py",
   "mimetype": "text/x-python",
   "name": "python",
   "nbconvert_exporter": "python",
   "pygments_lexer": "ipython3",
   "version": "3.6.15"
  }
 },
 "nbformat": 4,
 "nbformat_minor": 4
}
