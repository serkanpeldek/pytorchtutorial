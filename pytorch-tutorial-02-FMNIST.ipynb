{
 "cells": [
  {
   "cell_type": "markdown",
   "metadata": {},
   "source": [
    "<a class=\"anchor\" id=\"0.\"></a>\n",
    "# **Contents**\n",
    "\n",
    "\n",
    "1. [FMNIST Image Classification](#1.)\n",
    "* * [1.1. Load FMNIST Dataset](#1.1.)\n",
    "* * [1.2. Prepare Dataloaders](#1.2.)\n",
    "* * [1.3. Create Model](#1.3.)\n",
    "* * [1.4. Define Loss Function and Optimizer](#1.4.)\n",
    "* * [1.5. Train Model](#1.5.)\n",
    "* * [1.6. Save Model](#1.6.)\n",
    "* * [1.7. Load Model](#1.7.)"
   ]
  },
  {
   "cell_type": "code",
   "execution_count": 33,
   "metadata": {
    "_cell_guid": "b1076dfc-b9ad-4769-8c92-a6c4dae69d19",
    "_uuid": "8f2839f25d086af736a60e9eeb907d3b93b6e0e5"
   },
   "outputs": [],
   "source": [
    "import os\n",
    "import torch\n",
    "from torch import nn\n",
    "from torch.utils.data import DataLoader\n",
    "from torchvision import datasets\n",
    "from torchvision.transforms import ToTensor\n",
    "\n"
   ]
  },
  {
   "cell_type": "markdown",
   "metadata": {},
   "source": [
    "[Go to Contents Menu](#0.)\n",
    "<a class=\"anchor\" id=\"1.\"></a>\n",
    "\n",
    "# **1. FMNIST Image Classification**  "
   ]
  },
  {
   "cell_type": "code",
   "execution_count": 100,
   "metadata": {},
   "outputs": [
    {
     "name": "stdout",
     "output_type": "stream",
     "text": [
      "device: cuda\n"
     ]
    }
   ],
   "source": []
  },
  {
   "cell_type": "markdown",
   "metadata": {},
   "source": [
    "[Go to Contents Menu](#0.)\n",
    "<a class=\"anchor\" id=\"1.1.\"></a>\n",
    "\n",
    "# **1.1. Load FMNIST Dataset**  "
   ]
  },
  {
   "cell_type": "code",
   "execution_count": 7,
   "metadata": {},
   "outputs": [],
   "source": [
    "train_data = datasets.FashionMNIST(\n",
    "root='data',\n",
    "train=True,\n",
    "download=True,\n",
    "transform=ToTensor()\n",
    ")\n",
    "\n",
    "test_data = datasets.FashionMNIST(\n",
    "root='data',\n",
    "train=False,\n",
    "download=True,\n",
    "transform=ToTensor()\n",
    ")"
   ]
  },
  {
   "cell_type": "code",
   "execution_count": null,
   "metadata": {},
   "outputs": [],
   "source": []
  },
  {
   "cell_type": "markdown",
   "metadata": {},
   "source": [
    "[Go to Contents Menu](#0.)\n",
    "<a class=\"anchor\" id=\"1.2.\"></a>\n",
    "\n",
    "# **1.2. Prepare Dataloaders**  "
   ]
  },
  {
   "cell_type": "code",
   "execution_count": 11,
   "metadata": {},
   "outputs": [
    {
     "name": "stdout",
     "output_type": "stream",
     "text": [
      "Shape of S [N, C, H, W]: torch.Size([64, 1, 28, 28])\n"
     ]
    }
   ],
   "source": [
    "BATCH_SIZE = 64\n",
    "train_dataloader = DataLoader(train_data, batch_size=BATCH_SIZE)\n",
    "test_dataloader = DataLoader(test_data, batch_size=BATCH_SIZE)\n",
    "\n",
    "for X, y in test_dataloader:\n",
    "    print(f\"Shape of S [N, C, H, W]: {X.shape}\")\n",
    "    break"
   ]
  },
  {
   "cell_type": "markdown",
   "metadata": {},
   "source": [
    "[Go to Contents Menu](#0.)\n",
    "<a class=\"anchor\" id=\"1.3.\"></a>\n",
    "\n",
    "# **1.3. Create Model**  "
   ]
  },
  {
   "cell_type": "code",
   "execution_count": 12,
   "metadata": {},
   "outputs": [
    {
     "name": "stdout",
     "output_type": "stream",
     "text": [
      "device: cuda\n"
     ]
    }
   ],
   "source": [
    "device = \"cuda\" if torch.cuda.is_available() else \"cpu\"\n",
    "print(\"device:\", device)"
   ]
  },
  {
   "cell_type": "code",
   "execution_count": 27,
   "metadata": {},
   "outputs": [
    {
     "name": "stdout",
     "output_type": "stream",
     "text": [
      "NN(\n",
      "  (flatten): Flatten(start_dim=1, end_dim=-1)\n",
      "  (linear_relu_stack): Sequential(\n",
      "    (0): Linear(in_features=784, out_features=512, bias=True)\n",
      "    (1): ReLU()\n",
      "    (2): Linear(in_features=512, out_features=512, bias=True)\n",
      "    (3): ReLU()\n",
      "    (4): Linear(in_features=512, out_features=10, bias=True)\n",
      "  )\n",
      ")\n"
     ]
    }
   ],
   "source": [
    "class NN(nn.Module):\n",
    "    def __init__(self):\n",
    "        super(NN, self).__init__()\n",
    "        self.flatten = nn.Flatten()\n",
    "        self.linear_relu_stack = nn.Sequential(\n",
    "        nn.Linear(28*28, 512),\n",
    "        nn.ReLU(),\n",
    "        nn.Linear(512, 512),\n",
    "        nn.ReLU(),\n",
    "        nn.Linear(512, 10)\n",
    "        )\n",
    "    def forward(self, x):\n",
    "        x = self.flatten(x)\n",
    "        logits = self.linear_relu_stack(x)\n",
    "        return logits\n",
    "\n",
    "model = NN().to(device)\n",
    "print(model)"
   ]
  },
  {
   "cell_type": "markdown",
   "metadata": {},
   "source": [
    "[Go to Contents Menu](#0.)\n",
    "<a class=\"anchor\" id=\"1.4.\"></a>\n",
    "\n",
    "# **1.4. Define Loss Functions and Optimizer**  "
   ]
  },
  {
   "cell_type": "code",
   "execution_count": 28,
   "metadata": {},
   "outputs": [],
   "source": [
    "loss_fn = nn.CrossEntropyLoss()\n",
    "optimizer = torch.optim.SGD(model.parameters(), lr=1e-3)"
   ]
  },
  {
   "cell_type": "markdown",
   "metadata": {},
   "source": [
    "[Go to Contents Menu](#0.)\n",
    "<a class=\"anchor\" id=\"1.5.\"></a>\n",
    "\n",
    "# **1.5. Train the Model**  "
   ]
  },
  {
   "cell_type": "code",
   "execution_count": 29,
   "metadata": {},
   "outputs": [],
   "source": [
    "def train(model, dataloader, loss_fn, optimizer):\n",
    "    size = len(dataloader.dataset)\n",
    "    model.train()\n",
    "    for batch_no, (X, y) in enumerate(dataloader):\n",
    "        X, y = X.to(device), y.to(device)\n",
    "        \n",
    "        pred = model(X)\n",
    "        loss = loss_fn(pred, y)\n",
    "        \n",
    "        optimizer.zero_grad()\n",
    "        loss.backward()\n",
    "        optimizer.step()\n",
    "        if batch_no % 100 == 0:\n",
    "            loss, current = loss.item(), batch_no * len(X)\n",
    "            print(f\"loss:{loss:>7f} [{current:>5d}/{size:>5d}]\")\n",
    "\n"
   ]
  },
  {
   "cell_type": "code",
   "execution_count": 30,
   "metadata": {},
   "outputs": [],
   "source": [
    "def test(model, dataloader, loss_fn):\n",
    "    size = len(dataloader.dataset)\n",
    "    num_batches = len(dataloader)\n",
    "    model.eval()\n",
    "    test_loss, correct = 0, 0\n",
    "    with torch.no_grad():\n",
    "        for X, y in dataloader:\n",
    "            X, y = X.to(device), y.to(device)\n",
    "            pred = model(X)\n",
    "            test_loss += loss_fn(pred, y).item()\n",
    "            correct += (pred.argmax(1) == y).type(torch.float).sum().item()\n",
    "    test_loss /= num_batches\n",
    "    acc = correct / size\n",
    "    print(f\"Acc:{100*acc:>0.1f}% Avg loss:{test_loss:>8f}\")"
   ]
  },
  {
   "cell_type": "code",
   "execution_count": 31,
   "metadata": {},
   "outputs": [
    {
     "name": "stdout",
     "output_type": "stream",
     "text": [
      "Epoch 1\n",
      "--------------------------------------\n",
      "loss:2.302145 [    0/60000]\n",
      "loss:2.285991 [ 6400/60000]\n",
      "loss:2.269955 [12800/60000]\n",
      "loss:2.267660 [19200/60000]\n",
      "loss:2.244392 [25600/60000]\n",
      "loss:2.214330 [32000/60000]\n",
      "loss:2.226847 [38400/60000]\n",
      "loss:2.189646 [44800/60000]\n",
      "loss:2.181600 [51200/60000]\n",
      "loss:2.158941 [57600/60000]\n",
      "Acc:35.9% Avg loss:2.153218\n",
      "Epoch 2\n",
      "--------------------------------------\n",
      "loss:2.158802 [    0/60000]\n",
      "loss:2.145091 [ 6400/60000]\n",
      "loss:2.096629 [12800/60000]\n",
      "loss:2.119261 [19200/60000]\n",
      "loss:2.058169 [25600/60000]\n",
      "loss:1.995608 [32000/60000]\n",
      "loss:2.026676 [38400/60000]\n",
      "loss:1.945213 [44800/60000]\n",
      "loss:1.945575 [51200/60000]\n",
      "loss:1.883203 [57600/60000]\n",
      "Acc:55.0% Avg loss:1.881862\n",
      "Epoch 3\n",
      "--------------------------------------\n",
      "loss:1.910474 [    0/60000]\n",
      "loss:1.876029 [ 6400/60000]\n",
      "loss:1.771181 [12800/60000]\n",
      "loss:1.816827 [19200/60000]\n",
      "loss:1.697879 [25600/60000]\n",
      "loss:1.650708 [32000/60000]\n",
      "loss:1.676609 [38400/60000]\n",
      "loss:1.581342 [44800/60000]\n",
      "loss:1.600827 [51200/60000]\n",
      "loss:1.497691 [57600/60000]\n",
      "Acc:60.5% Avg loss:1.518871\n",
      "Epoch 4\n",
      "--------------------------------------\n",
      "loss:1.586296 [    0/60000]\n",
      "loss:1.545923 [ 6400/60000]\n",
      "loss:1.407711 [12800/60000]\n",
      "loss:1.474988 [19200/60000]\n",
      "loss:1.355737 [25600/60000]\n",
      "loss:1.349053 [32000/60000]\n",
      "loss:1.364741 [38400/60000]\n",
      "loss:1.294396 [44800/60000]\n",
      "loss:1.321183 [51200/60000]\n",
      "loss:1.221220 [57600/60000]\n",
      "Acc:62.9% Avg loss:1.251302\n",
      "Epoch 5\n",
      "--------------------------------------\n",
      "loss:1.331689 [    0/60000]\n",
      "loss:1.309289 [ 6400/60000]\n",
      "loss:1.150257 [12800/60000]\n",
      "loss:1.250668 [19200/60000]\n",
      "loss:1.130720 [25600/60000]\n",
      "loss:1.148025 [32000/60000]\n",
      "loss:1.173434 [38400/60000]\n",
      "loss:1.113644 [44800/60000]\n",
      "loss:1.145236 [51200/60000]\n",
      "loss:1.063029 [57600/60000]\n",
      "Acc:64.3% Avg loss:1.085963\n",
      "Done...\n"
     ]
    }
   ],
   "source": [
    "epochs = 5\n",
    "for epoch in range(epochs):\n",
    "    print(f\"\\nEpoch {epoch + 1}\\n--------------------------------------\")\n",
    "    train(model, train_dataloader, loss_fn, optimizer)\n",
    "    test(model, test_dataloader, loss_fn)\n",
    "print(\"Done...\")"
   ]
  },
  {
   "cell_type": "markdown",
   "metadata": {},
   "source": [
    "[Go to Contents Menu](#0.)\n",
    "<a class=\"anchor\" id=\"1.6.\"></a>\n",
    "\n",
    "# **1.6. Save Model**  "
   ]
  },
  {
   "cell_type": "code",
   "execution_count": 34,
   "metadata": {},
   "outputs": [
    {
     "name": "stdout",
     "output_type": "stream",
     "text": [
      "Saved Pytorch Model State to fmnist_model.pth\n"
     ]
    }
   ],
   "source": [
    "save_folder = \"/home/serkan/repos_personel\"\n",
    "model_name = \"fmnist_model.pth\"\n",
    "model_path = os.path.join(save_folder, model_name)\n",
    "torch.save(model.state_dict(), model_path)\n",
    "print(\"Saved Pytorch Model State to {}\".format(model_name))\n"
   ]
  },
  {
   "cell_type": "markdown",
   "metadata": {},
   "source": [
    "[Go to Contents Menu](#0.)\n",
    "<a class=\"anchor\" id=\"1.7.\"></a>\n",
    "\n",
    "# **1.7. Load Model**  "
   ]
  },
  {
   "cell_type": "code",
   "execution_count": 35,
   "metadata": {},
   "outputs": [
    {
     "name": "stdout",
     "output_type": "stream",
     "text": [
      "Loaded model: /home/serkan/repos_personel/fmnist_model.pth\n"
     ]
    }
   ],
   "source": [
    "\n",
    "loaded_model = NN()\n",
    "loaded_model.load_state_dict(torch.load(model_path))\n",
    "print(\"Loaded model:\", model_path)"
   ]
  },
  {
   "cell_type": "markdown",
   "metadata": {},
   "source": [
    "[Go to Contents Menu](#0.)\n",
    "<a class=\"anchor\" id=\"1.8.\"></a>\n",
    "\n",
    "# **1.8. Make Prediction**  "
   ]
  },
  {
   "cell_type": "code",
   "execution_count": 40,
   "metadata": {},
   "outputs": [
    {
     "name": "stdout",
     "output_type": "stream",
     "text": [
      "Predicted:Dress, Actual:Dress\n"
     ]
    }
   ],
   "source": [
    "classes = [\n",
    "    \"T-shirt/top\",\n",
    "    \"Trouser\",\n",
    "    \"Pullover\",\n",
    "    \"Dress\",\n",
    "    \"Coat\",\n",
    "    \"Sandal\",\n",
    "    \"Shirt\",\n",
    "    \"Sneaker\",\n",
    "    \"Bag\",\n",
    "    \"Ankle boot\",\n",
    "]\n",
    "\n",
    "loaded_model.eval()\n",
    "n = 100\n",
    "x, y = test_data[n][0], test_data[n][1]\n",
    "with torch.no_grad():\n",
    "    pred = loaded_model(x)\n",
    "    predicted, actual = classes[pred[0].argmax(0)], classes[y]\n",
    "    print(f\"Predicted:{predicted}, Actual:{actual}\")"
   ]
  },
  {
   "cell_type": "code",
   "execution_count": null,
   "metadata": {},
   "outputs": [],
   "source": []
  }
 ],
 "metadata": {
  "kernelspec": {
   "display_name": "rknn-tabular",
   "language": "python",
   "name": "rknn-tabular"
  },
  "language_info": {
   "codemirror_mode": {
    "name": "ipython",
    "version": 3
   },
   "file_extension": ".py",
   "mimetype": "text/x-python",
   "name": "python",
   "nbconvert_exporter": "python",
   "pygments_lexer": "ipython3",
   "version": "3.6.15"
  }
 },
 "nbformat": 4,
 "nbformat_minor": 4
}
